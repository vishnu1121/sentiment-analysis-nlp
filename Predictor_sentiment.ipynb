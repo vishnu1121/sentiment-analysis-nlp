{
 "cells": [
  {
   "cell_type": "code",
   "execution_count": 2,
   "id": "fdc66a98",
   "metadata": {},
   "outputs": [],
   "source": [
    "import numpy as np\n",
    "import pandas as pd\n"
   ]
  },
  {
   "cell_type": "code",
   "execution_count": 3,
   "id": "89d3b6bc",
   "metadata": {},
   "outputs": [],
   "source": [
    "df=pd.read_table('Testing_DATA.tsv')"
   ]
  },
  {
   "cell_type": "code",
   "execution_count": 4,
   "id": "4e7665b9",
   "metadata": {},
   "outputs": [
    {
     "data": {
      "text/html": [
       "<div>\n",
       "<style scoped>\n",
       "    .dataframe tbody tr th:only-of-type {\n",
       "        vertical-align: middle;\n",
       "    }\n",
       "\n",
       "    .dataframe tbody tr th {\n",
       "        vertical-align: top;\n",
       "    }\n",
       "\n",
       "    .dataframe thead th {\n",
       "        text-align: right;\n",
       "    }\n",
       "</style>\n",
       "<table border=\"1\" class=\"dataframe\">\n",
       "  <thead>\n",
       "    <tr style=\"text-align: right;\">\n",
       "      <th></th>\n",
       "      <th>Review</th>\n",
       "    </tr>\n",
       "  </thead>\n",
       "  <tbody>\n",
       "    <tr>\n",
       "      <th>0</th>\n",
       "      <td>Spend your money elsewhere.</td>\n",
       "    </tr>\n",
       "    <tr>\n",
       "      <th>1</th>\n",
       "      <td>Their regular toasted bread was equally satisf...</td>\n",
       "    </tr>\n",
       "    <tr>\n",
       "      <th>2</th>\n",
       "      <td>The Buffet at Bellagio was far from what I ant...</td>\n",
       "    </tr>\n",
       "    <tr>\n",
       "      <th>3</th>\n",
       "      <td>And the drinks are WEAK, people!</td>\n",
       "    </tr>\n",
       "    <tr>\n",
       "      <th>4</th>\n",
       "      <td>-My order was not correct.</td>\n",
       "    </tr>\n",
       "    <tr>\n",
       "      <th>...</th>\n",
       "      <td>...</td>\n",
       "    </tr>\n",
       "    <tr>\n",
       "      <th>95</th>\n",
       "      <td>I think food should have flavor and texture an...</td>\n",
       "    </tr>\n",
       "    <tr>\n",
       "      <th>96</th>\n",
       "      <td>Appetite instantly gone.</td>\n",
       "    </tr>\n",
       "    <tr>\n",
       "      <th>97</th>\n",
       "      <td>Overall I was not impressed and would not go b...</td>\n",
       "    </tr>\n",
       "    <tr>\n",
       "      <th>98</th>\n",
       "      <td>The whole experience was underwhelming, and I ...</td>\n",
       "    </tr>\n",
       "    <tr>\n",
       "      <th>99</th>\n",
       "      <td>Then, as if I hadn't wasted enough of my life ...</td>\n",
       "    </tr>\n",
       "  </tbody>\n",
       "</table>\n",
       "<p>100 rows × 1 columns</p>\n",
       "</div>"
      ],
      "text/plain": [
       "                                               Review\n",
       "0                         Spend your money elsewhere.\n",
       "1   Their regular toasted bread was equally satisf...\n",
       "2   The Buffet at Bellagio was far from what I ant...\n",
       "3                    And the drinks are WEAK, people!\n",
       "4                          -My order was not correct.\n",
       "..                                                ...\n",
       "95  I think food should have flavor and texture an...\n",
       "96                           Appetite instantly gone.\n",
       "97  Overall I was not impressed and would not go b...\n",
       "98  The whole experience was underwhelming, and I ...\n",
       "99  Then, as if I hadn't wasted enough of my life ...\n",
       "\n",
       "[100 rows x 1 columns]"
      ]
     },
     "execution_count": 4,
     "metadata": {},
     "output_type": "execute_result"
    }
   ],
   "source": [
    "df"
   ]
  },
  {
   "cell_type": "code",
   "execution_count": 5,
   "id": "e43b2d2a",
   "metadata": {},
   "outputs": [],
   "source": [
    "import re\n",
    "import nltk"
   ]
  },
  {
   "cell_type": "code",
   "execution_count": 6,
   "id": "5397eb85",
   "metadata": {},
   "outputs": [],
   "source": [
    "from nltk.corpus import stopwords"
   ]
  },
  {
   "cell_type": "code",
   "execution_count": 7,
   "id": "c3d6bc6d",
   "metadata": {},
   "outputs": [],
   "source": [
    "from nltk import PorterStemmer"
   ]
  },
  {
   "cell_type": "code",
   "execution_count": 8,
   "id": "cc9ec417",
   "metadata": {},
   "outputs": [
    {
     "name": "stderr",
     "output_type": "stream",
     "text": [
      "[nltk_data] Downloading package stopwords to\n",
      "[nltk_data]     C:\\Users\\Vishnu\\AppData\\Roaming\\nltk_data...\n",
      "[nltk_data]   Package stopwords is already up-to-date!\n"
     ]
    },
    {
     "data": {
      "text/plain": [
       "True"
      ]
     },
     "execution_count": 8,
     "metadata": {},
     "output_type": "execute_result"
    }
   ],
   "source": [
    "nltk.download('stopwords')"
   ]
  },
  {
   "cell_type": "code",
   "execution_count": 9,
   "id": "8e100d36",
   "metadata": {},
   "outputs": [],
   "source": [
    "Stemmer=PorterStemmer()"
   ]
  },
  {
   "cell_type": "code",
   "execution_count": 10,
   "id": "19c3cdf7",
   "metadata": {},
   "outputs": [],
   "source": [
    "Stopwords=stopwords.words('english')\n",
    "Stopwords.remove('not')"
   ]
  },
  {
   "cell_type": "code",
   "execution_count": 21,
   "id": "a871c329",
   "metadata": {},
   "outputs": [],
   "source": [
    "new_result=[]\n",
    "for i in range(0,100):\n",
    "    review = re.sub('[^a-zA-Z]', ' ',df['Review'][i])\n",
    "    review = review.lower()\n",
    "    review = nltk.word_tokenize(review)\n",
    "    review = [Stemmer.stem(word) for word in review if not word in set(Stopwords)]\n",
    "    review = ' '.join(review)\n",
    "    new_result.append(review)"
   ]
  },
  {
   "cell_type": "code",
   "execution_count": 22,
   "id": "79220269",
   "metadata": {},
   "outputs": [
    {
     "data": {
      "text/plain": [
       "['spend money elsewher',\n",
       " 'regular toast bread equal satisfi occasion pat butter mmmm',\n",
       " 'buffet bellagio far anticip',\n",
       " 'drink weak peopl',\n",
       " 'order not correct',\n",
       " 'also feel like chip bought not made hous',\n",
       " 'disappoint dinner went elsewher dessert',\n",
       " 'chip sal amaz',\n",
       " 'return',\n",
       " 'new fav vega buffet spot',\n",
       " 'serious not believ owner mani unexperienc employe run around like chicken head cut',\n",
       " 'sad',\n",
       " 'felt insult disrespect could talk judg anoth human like',\n",
       " 'call steakhous properli cook steak understand',\n",
       " 'not impress concept food',\n",
       " 'thing crazi guacamol like pur ed',\n",
       " 'realli noth postino hope experi better',\n",
       " 'got food poison buffet',\n",
       " 'brought fresh batch fri think yay someth warm',\n",
       " 'hilari yummi christma eve dinner rememb biggest fail entir trip us',\n",
       " 'needless say go back anytim soon',\n",
       " 'place disgust',\n",
       " 'everi time eat see care teamwork profession degre',\n",
       " 'ri style calamari joke',\n",
       " 'howev much garlic fondu bare edibl',\n",
       " 'could bare stomach meal complain busi lunch',\n",
       " 'bad lost heart finish',\n",
       " 'also took forev bring us check ask',\n",
       " 'one make scene restaur get definit lost love one',\n",
       " 'disappoint experi',\n",
       " 'food par denni say not good',\n",
       " 'want wait mediocr food downright terribl servic place',\n",
       " 'waaaaaayyyyyyyyyi rate say',\n",
       " 'go back',\n",
       " 'place fairli clean food simpli worth',\n",
       " 'place lack style',\n",
       " 'sangria half glass wine full ridicul',\n",
       " 'bother come',\n",
       " 'meat pretti dri slice brisket pull pork',\n",
       " 'build seem pretti neat bathroom pretti trippi eat',\n",
       " 'equal aw',\n",
       " 'probabl not hurri go back',\n",
       " 'slow seat even reserv',\n",
       " 'not good stretch imagin',\n",
       " 'cashew cream sauc bland veget undercook',\n",
       " 'chipolt ranch dip saus tasteless seem thin water heat',\n",
       " 'bit sweet not realli spici enough lack flavor',\n",
       " 'disappoint',\n",
       " 'place horribl way overpr',\n",
       " 'mayb vegetarian fare twice thought averag best',\n",
       " 'busi know',\n",
       " 'tabl outsid also dirti lot time worker not alway friendli help menu',\n",
       " 'ambianc not feel like buffet set douchey indoor garden tea biscuit',\n",
       " 'con spotti servic',\n",
       " 'fri not hot neither burger',\n",
       " 'came back cold',\n",
       " 'food came disappoint ensu',\n",
       " 'real disappoint waiter',\n",
       " 'husband said rude not even apolog bad food anyth',\n",
       " 'reason eat would fill night bing drink get carb stomach',\n",
       " 'insult profound deuchebaggeri go outsid smoke break serv solidifi',\n",
       " 'someon order two taco think may part custom servic ask combo ala cart',\n",
       " 'quit disappoint although blame need place door',\n",
       " 'rave review wait eat disappoint',\n",
       " 'del taco pretti nasti avoid possibl',\n",
       " 'not hard make decent hamburg',\n",
       " 'like',\n",
       " 'hell go back',\n",
       " 'gotten much better servic pizza place next door servic receiv restaur',\n",
       " 'know big deal place back ya',\n",
       " 'immedi said want talk manag not want talk guy shot firebal behind bar',\n",
       " 'ambianc much better',\n",
       " 'unfortun set us disapppoint entre',\n",
       " 'food good',\n",
       " 'server suck wait correct server heimer suck',\n",
       " 'happen next pretti put',\n",
       " 'bad caus know famili own realli want like place',\n",
       " 'overpr get',\n",
       " 'vomit bathroom mid lunch',\n",
       " 'kept look time soon becom minut yet still food',\n",
       " 'place eat circumst would ever return top list',\n",
       " 'start tuna sashimi brownish color obvious fresh',\n",
       " 'food averag',\n",
       " 'sure beat nacho movi would expect littl bit come restaur',\n",
       " 'ha long bay bit flop',\n",
       " 'problem charg sandwich bigger subway sub offer better amount veget',\n",
       " 'shrimp unwrap live mile brushfir liter ice cold',\n",
       " 'lack flavor seem undercook dri',\n",
       " 'realli impress place close',\n",
       " 'would avoid place stay mirag',\n",
       " 'refri bean came meal dri crusti food bland',\n",
       " 'spend money time place els',\n",
       " 'ladi tabl next us found live green caterpillar salad',\n",
       " 'present food aw',\n",
       " 'tell disappoint',\n",
       " 'think food flavor textur lack',\n",
       " 'appetit instantli gone',\n",
       " 'overal not impress would not go back',\n",
       " 'whole experi underwhelm think go ninja sushi next time',\n",
       " 'wast enough life pour salt wound draw time took bring check']"
      ]
     },
     "execution_count": 22,
     "metadata": {},
     "output_type": "execute_result"
    }
   ],
   "source": [
    "new_result"
   ]
  },
  {
   "cell_type": "code",
   "execution_count": 23,
   "id": "0cdcfa98",
   "metadata": {},
   "outputs": [],
   "source": [
    "from sklearn.feature_extraction.text import CountVectorizer\n",
    "import pickle\n",
    "cvPath='C:/Users/Vishnu/Desktop/practice/ds exercise/Untitled Folder/Bag_of_words_sentimentmodel.pkl'\n",
    "cv=pickle.load(open(cvPath,'rb'))"
   ]
  },
  {
   "cell_type": "code",
   "execution_count": 24,
   "id": "ea981ff2",
   "metadata": {},
   "outputs": [],
   "source": [
    "X_New=cv.transform(new_result).toarray()"
   ]
  },
  {
   "cell_type": "code",
   "execution_count": 25,
   "id": "526e2a15",
   "metadata": {},
   "outputs": [
    {
     "data": {
      "text/plain": [
       "(100, 1420)"
      ]
     },
     "execution_count": 25,
     "metadata": {},
     "output_type": "execute_result"
    }
   ],
   "source": [
    "X_New.shape\n"
   ]
  },
  {
   "cell_type": "code",
   "execution_count": 26,
   "id": "65e3e0bf",
   "metadata": {},
   "outputs": [],
   "source": [
    "import joblib\n",
    "classifier= joblib.load('C:/Users/Vishnu/Desktop/practice/ds exercise/Untitled Folder/Classfier_model')"
   ]
  },
  {
   "cell_type": "code",
   "execution_count": 27,
   "id": "359403a1",
   "metadata": {},
   "outputs": [],
   "source": [
    " y_predict=classifier.predict(X_New)"
   ]
  },
  {
   "cell_type": "code",
   "execution_count": 28,
   "id": "dc7d5a9d",
   "metadata": {
    "scrolled": true
   },
   "outputs": [
    {
     "data": {
      "text/plain": [
       "array([0, 1, 0, 0, 0, 0, 0, 0, 0, 0, 0, 0, 0, 0, 0, 1, 0, 0, 1, 0, 0, 0,\n",
       "       1, 0, 0, 0, 0, 0, 0, 0, 0, 0, 0, 0, 0, 0, 1, 0, 1, 0, 0, 0, 0, 0,\n",
       "       0, 0, 0, 0, 0, 1, 0, 0, 1, 0, 0, 0, 0, 0, 0, 0, 0, 1, 0, 0, 0, 0,\n",
       "       0, 0, 1, 0, 0, 1, 1, 0, 0, 0, 0, 0, 0, 0, 1, 0, 0, 0, 0, 0, 0, 0,\n",
       "       0, 0, 0, 0, 0, 0, 0, 1, 0, 0, 0, 0], dtype=int64)"
      ]
     },
     "execution_count": 28,
     "metadata": {},
     "output_type": "execute_result"
    }
   ],
   "source": [
    "y_predict"
   ]
  },
  {
   "cell_type": "code",
   "execution_count": 30,
   "id": "53e0e7dd",
   "metadata": {
    "scrolled": true
   },
   "outputs": [
    {
     "data": {
      "text/html": [
       "<div>\n",
       "<style scoped>\n",
       "    .dataframe tbody tr th:only-of-type {\n",
       "        vertical-align: middle;\n",
       "    }\n",
       "\n",
       "    .dataframe tbody tr th {\n",
       "        vertical-align: top;\n",
       "    }\n",
       "\n",
       "    .dataframe thead th {\n",
       "        text-align: right;\n",
       "    }\n",
       "</style>\n",
       "<table border=\"1\" class=\"dataframe\">\n",
       "  <thead>\n",
       "    <tr style=\"text-align: right;\">\n",
       "      <th></th>\n",
       "      <th>Review</th>\n",
       "      <th>Predicted Sentiment</th>\n",
       "    </tr>\n",
       "  </thead>\n",
       "  <tbody>\n",
       "    <tr>\n",
       "      <th>0</th>\n",
       "      <td>Spend your money elsewhere.</td>\n",
       "      <td>0</td>\n",
       "    </tr>\n",
       "    <tr>\n",
       "      <th>1</th>\n",
       "      <td>Their regular toasted bread was equally satisf...</td>\n",
       "      <td>1</td>\n",
       "    </tr>\n",
       "    <tr>\n",
       "      <th>2</th>\n",
       "      <td>The Buffet at Bellagio was far from what I ant...</td>\n",
       "      <td>0</td>\n",
       "    </tr>\n",
       "    <tr>\n",
       "      <th>3</th>\n",
       "      <td>And the drinks are WEAK, people!</td>\n",
       "      <td>0</td>\n",
       "    </tr>\n",
       "    <tr>\n",
       "      <th>4</th>\n",
       "      <td>-My order was not correct.</td>\n",
       "      <td>0</td>\n",
       "    </tr>\n",
       "    <tr>\n",
       "      <th>...</th>\n",
       "      <td>...</td>\n",
       "      <td>...</td>\n",
       "    </tr>\n",
       "    <tr>\n",
       "      <th>95</th>\n",
       "      <td>I think food should have flavor and texture an...</td>\n",
       "      <td>1</td>\n",
       "    </tr>\n",
       "    <tr>\n",
       "      <th>96</th>\n",
       "      <td>Appetite instantly gone.</td>\n",
       "      <td>0</td>\n",
       "    </tr>\n",
       "    <tr>\n",
       "      <th>97</th>\n",
       "      <td>Overall I was not impressed and would not go b...</td>\n",
       "      <td>0</td>\n",
       "    </tr>\n",
       "    <tr>\n",
       "      <th>98</th>\n",
       "      <td>The whole experience was underwhelming, and I ...</td>\n",
       "      <td>0</td>\n",
       "    </tr>\n",
       "    <tr>\n",
       "      <th>99</th>\n",
       "      <td>Then, as if I hadn't wasted enough of my life ...</td>\n",
       "      <td>0</td>\n",
       "    </tr>\n",
       "  </tbody>\n",
       "</table>\n",
       "<p>100 rows × 2 columns</p>\n",
       "</div>"
      ],
      "text/plain": [
       "                                               Review  Predicted Sentiment\n",
       "0                         Spend your money elsewhere.                    0\n",
       "1   Their regular toasted bread was equally satisf...                    1\n",
       "2   The Buffet at Bellagio was far from what I ant...                    0\n",
       "3                    And the drinks are WEAK, people!                    0\n",
       "4                          -My order was not correct.                    0\n",
       "..                                                ...                  ...\n",
       "95  I think food should have flavor and texture an...                    1\n",
       "96                           Appetite instantly gone.                    0\n",
       "97  Overall I was not impressed and would not go b...                    0\n",
       "98  The whole experience was underwhelming, and I ...                    0\n",
       "99  Then, as if I hadn't wasted enough of my life ...                    0\n",
       "\n",
       "[100 rows x 2 columns]"
      ]
     },
     "execution_count": 30,
     "metadata": {},
     "output_type": "execute_result"
    }
   ],
   "source": [
    "df['Predicted Sentiment']=y_predict.tolist()\n",
    "df"
   ]
  },
  {
   "cell_type": "code",
   "execution_count": 35,
   "id": "d62fffff",
   "metadata": {},
   "outputs": [],
   "source": [
    "df.to_csv('C:/Users/Vishnu/Desktop/practice/ds exercise/Untitled Folder/Predicted Sentiment for Hotel reviews.tsv',sep='\\t',encoding='UTF-8',index=False)"
   ]
  },
  {
   "cell_type": "code",
   "execution_count": null,
   "id": "8a956154",
   "metadata": {},
   "outputs": [],
   "source": []
  }
 ],
 "metadata": {
  "kernelspec": {
   "display_name": "Python 3 (ipykernel)",
   "language": "python",
   "name": "python3"
  },
  "language_info": {
   "codemirror_mode": {
    "name": "ipython",
    "version": 3
   },
   "file_extension": ".py",
   "mimetype": "text/x-python",
   "name": "python",
   "nbconvert_exporter": "python",
   "pygments_lexer": "ipython3",
   "version": "3.10.9"
  }
 },
 "nbformat": 4,
 "nbformat_minor": 5
}
